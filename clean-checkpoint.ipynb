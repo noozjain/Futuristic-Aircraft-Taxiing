This file contains the trial codes for the dataset cleaning

import pandas as pd
import numpy as np
import matplotlib.pyplot as plt
